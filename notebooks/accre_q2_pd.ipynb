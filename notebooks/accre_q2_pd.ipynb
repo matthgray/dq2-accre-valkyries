{
 "cells": [
  {
   "cell_type": "markdown",
   "metadata": {},
   "source": [
    "For Question #2, filter to CMS users (cmslocal, cmspilot), examine relationship betw early (< 60 min) termination jobs, production & nogpfs partitions, and specific nodes.  Look for commonly failed nodes\n",
    "\n",
    "Actions: 1) pull in code to convert time to seconds 2) run query for cms users, used time less than 3600 seconds and 1800 seconds, partition = production, nogpfs. 3) analyze exit codes: left = user errors, right = node errors. 4) run query for cms user, 30 mins, plus State = Failed.  4) analyze for commonly occurring failed nodes"
   ]
  },
  {
   "cell_type": "code",
   "execution_count": 1,
   "metadata": {},
   "outputs": [],
   "source": [
    "import pandas as pd\n",
    "import numpy as np\n",
    "import matplotlib.pyplot as plt\n",
    "import seaborn as sns\n",
    "import scipy.stats as stats\n",
    "import statsmodels.api as sm\n",
    "%matplotlib inline\n",
    "from io import StringIO\n",
    "import re"
   ]
  },
  {
   "cell_type": "code",
   "execution_count": null,
   "metadata": {},
   "outputs": [],
   "source": [
    "for_pd = StringIO()\n",
    "with open('../data/accre-jobs-2020.csv') as accre:\n",
    "    for line in accre:\n",
    "        new_line = re.sub(r',', '|', line.rstrip(), count=12)\n",
    "        print (new_line, file=for_pd)\n",
    "\n",
    "for_pd.seek(0)\n",
    "\n",
    "accre = pd.read_csv(for_pd, sep='|')\n",
    "print (accre)"
   ]
  },
  {
   "cell_type": "code",
   "execution_count": null,
   "metadata": {},
   "outputs": [],
   "source": [
    "accre.head()"
   ]
  },
  {
   "cell_type": "code",
   "execution_count": null,
   "metadata": {},
   "outputs": [],
   "source": [
    "accre.info()"
   ]
  },
  {
   "cell_type": "code",
   "execution_count": null,
   "metadata": {},
   "outputs": [],
   "source": [
    "accre.groupby('STATE').size()"
   ]
  },
  {
   "cell_type": "code",
   "execution_count": null,
   "metadata": {},
   "outputs": [],
   "source": [
    "# bring in code to convert time to seconds \n",
    "# Create a function to split the hh:mm:ss string and calculate seconds from it\n",
    "def to_sec(x):\n",
    "    h,m,s = map(int,x.split(':'))\n",
    "    return (h*60+m)*60+s"
   ]
  },
  {
   "cell_type": "code",
   "execution_count": null,
   "metadata": {},
   "outputs": [],
   "source": [
    "accre['REQTIME_DAY_SEC'] = accre['REQTIME'].str.extract('(\\d+)-')\n",
    "accre['REQTIME_DAY_SEC'] = pd.to_numeric(accre['REQTIME_DAY_SEC'])\n",
    "accre['REQTIME_DAY_SEC'] = accre['REQTIME_DAY_SEC'].fillna(0)\n",
    "accre['REQTIME_DAY_SEC'] = accre['REQTIME_DAY_SEC']*24*60*60\n",
    "# Extract the hh:mm:ss from REQTIME, put in a new column, and then apply the to_sec function \n",
    "accre['REQTIME_T'] = accre['REQTIME'].str.extract('(..:..:..)$')\n",
    "# REQTIME_SEC includes total seconds from REQTIME\n",
    "accre['REQTIME_SEC'] = accre['REQTIME_T'].apply(to_sec) + accre['REQTIME_DAY_SEC']\n",
    "# Do the same for USEDTIME\n",
    "accre['USEDTIME_DAY_SEC'] = accre['USEDTIME'].str.extract('(\\d+)-')\n",
    "accre['USEDTIME_DAY_SEC'] = pd.to_numeric(accre['USEDTIME_DAY_SEC'])\n",
    "accre['USEDTIME_DAY_SEC'] = accre['USEDTIME_DAY_SEC'].fillna(0)\n",
    "accre['USEDTIME_DAY_SEC'] = accre['USEDTIME_DAY_SEC']*24*60*60\n",
    "# Do the same for USEDTIME\n",
    "accre['USEDTIME_T'] = accre['USEDTIME'].str.extract('(..:..:..)$')\n",
    "# USEDTIME_SEC includes total second from USEDTIME\n",
    "accre['USEDTIME_SEC'] = accre['USEDTIME_T'].apply(to_sec) + accre['USEDTIME_DAY_SEC']\n",
    "# Check to make sure the data types look okay\n",
    "accre.info()"
   ]
  },
  {
   "cell_type": "code",
   "execution_count": null,
   "metadata": {},
   "outputs": [],
   "source": [
    "accre_cms = accre.drop(['REQMEM', 'USEDMEM', 'REQTIME', 'USEDTIME', 'REQTIME_DAY_SEC', 'REQTIME_T', 'USEDTIME_DAY_SEC', 'USEDTIME_T'], axis = 1)"
   ]
  },
  {
   "cell_type": "code",
   "execution_count": null,
   "metadata": {},
   "outputs": [],
   "source": [
    "accre_cms.info()"
   ]
  },
  {
   "cell_type": "markdown",
   "metadata": {},
   "source": [
    "First, filter the users to cmspilot and cmslocal"
   ]
  },
  {
   "cell_type": "code",
   "execution_count": null,
   "metadata": {},
   "outputs": [],
   "source": [
    "accre_cms_user = accre_cms.loc[accre_cms['USER'].isin(['cmslocal', 'cmspilot'])]\n",
    "accre_cms_user"
   ]
  },
  {
   "cell_type": "code",
   "execution_count": null,
   "metadata": {},
   "outputs": [],
   "source": [
    "accre_cms_user.USER.unique()"
   ]
  },
  {
   "cell_type": "code",
   "execution_count": null,
   "metadata": {},
   "outputs": [],
   "source": [
    "accre_cms_user.PARTITION.unique()"
   ]
  },
  {
   "cell_type": "code",
   "execution_count": null,
   "metadata": {},
   "outputs": [],
   "source": [
    "accre_cms_user.info()"
   ]
  },
  {
   "cell_type": "code",
   "execution_count": null,
   "metadata": {},
   "outputs": [],
   "source": [
    "accre_cms_user.ACCOUNT.unique()"
   ]
  },
  {
   "cell_type": "markdown",
   "metadata": {},
   "source": [
    "Note that although filtered to cmslocal and cmspilot, there are still 3 Accounts "
   ]
  },
  {
   "cell_type": "markdown",
   "metadata": {},
   "source": [
    "Now filter the partitions to production and nogpfs"
   ]
  },
  {
   "cell_type": "code",
   "execution_count": null,
   "metadata": {},
   "outputs": [],
   "source": [
    "accre_cms_user_part = accre_cms_user.loc[accre_cms_user['PARTITION'].isin(['production', 'nogpfs'])]\n",
    "accre_cms_user_part"
   ]
  },
  {
   "cell_type": "code",
   "execution_count": null,
   "metadata": {},
   "outputs": [],
   "source": [
    "accre_cms_user_part.info()"
   ]
  },
  {
   "cell_type": "code",
   "execution_count": null,
   "metadata": {},
   "outputs": [],
   "source": [
    "accre_cms_user_part.PARTITION.unique()"
   ]
  },
  {
   "cell_type": "code",
   "execution_count": null,
   "metadata": {},
   "outputs": [],
   "source": [
    "accre_cms_user_part.ACCOUNT.unique()"
   ]
  },
  {
   "cell_type": "markdown",
   "metadata": {},
   "source": [
    "Note there are now 2 Accounts associated with cmslocal and cmspilot"
   ]
  },
  {
   "cell_type": "markdown",
   "metadata": {},
   "source": [
    "So we now have a database with cmslocal/cmspilot as the Users and production/nogpfs as the Partitions. Next, filter to jobs less than 60 minutes, and a separate df with 30 minutes.  (Note: I originally tried to first filter on original USEDTIME less than 1:00 but got error '<' not supported betw 'list' and 'str'"
   ]
  },
  {
   "cell_type": "code",
   "execution_count": null,
   "metadata": {},
   "outputs": [],
   "source": [
    "# df with jobs less than 60 minutes.  I used 60 minutes, 2 seconds in case the last digit is not included and \n",
    "#there's a delay in cancel execution.  \n",
    "accre_cms_user_part_1hr = accre_cms_user_part[accre_cms_user_part['USEDTIME_SEC'].between(0,3602)]\n",
    "accre_cms_user_part_1hr"
   ]
  },
  {
   "cell_type": "code",
   "execution_count": null,
   "metadata": {},
   "outputs": [],
   "source": [
    "accre_cms_user_part_1hr.describe()"
   ]
  },
  {
   "cell_type": "code",
   "execution_count": null,
   "metadata": {},
   "outputs": [],
   "source": [
    "#df with jobs less than 30 minutes.  I used 30 minutes, 2 seconds in case the last digit is not included and \n",
    "#there's a delay in cancel execution. \n",
    "accre_cms_user_part_30 = accre_cms_user_part[accre_cms_user_part['USEDTIME_SEC'].between(0,1802)]\n",
    "accre_cms_user_part_30"
   ]
  },
  {
   "cell_type": "code",
   "execution_count": null,
   "metadata": {},
   "outputs": [],
   "source": [
    "accre_cms_user_part_30.describe()"
   ]
  },
  {
   "cell_type": "markdown",
   "metadata": {},
   "source": [
    "474044 cms jobs, or 57%, are less than 30 minutes.  509,499 cms jobs, or 61%, are less than 1 hr "
   ]
  },
  {
   "cell_type": "code",
   "execution_count": null,
   "metadata": {},
   "outputs": [],
   "source": [
    "accre_cms_user_part_30.sort_values('USEDTIME_SEC',ascending = 'false')\n",
    "accre_cms_user_part_30"
   ]
  },
  {
   "cell_type": "code",
   "execution_count": null,
   "metadata": {},
   "outputs": [],
   "source": [
    "accre_cms_user_part_30.groupby('STATE')['STATE'].count()"
   ]
  },
  {
   "cell_type": "code",
   "execution_count": null,
   "metadata": {},
   "outputs": [],
   "source": [
    "accre_cms_user_part_30_fail = accre_cms_user_part_30[accre_cms_user_part_30['STATE'] == 'FAILED']\n",
    "accre_cms_user_part_30_fail"
   ]
  },
  {
   "cell_type": "code",
   "execution_count": null,
   "metadata": {},
   "outputs": [],
   "source": [
    "accre_cms_user_part_30_fail.info()"
   ]
  },
  {
   "cell_type": "code",
   "execution_count": null,
   "metadata": {},
   "outputs": [],
   "source": [
    "accre_cms_user_part_30_fail.NODELIST.value_counts().plot(kind = 'bar')\n",
    "plt.xticks(rotation=45)\n",
    "plt.tight_layout()"
   ]
  },
  {
   "cell_type": "code",
   "execution_count": null,
   "metadata": {},
   "outputs": [],
   "source": [
    "accre_cms_user_part_30_fail.NODELIST.describe()"
   ]
  },
  {
   "cell_type": "markdown",
   "metadata": {},
   "source": [
    "There were only 61 failed jobs for cms jobs under 30 minutes. There were 52 unique Nodelists, with the most frequent cn1387. "
   ]
  },
  {
   "cell_type": "code",
   "execution_count": null,
   "metadata": {},
   "outputs": [],
   "source": [
    "def find_most_common_values(df,column):\n",
    "    return df[column].value_counts(ascending=False).iloc[0:50]"
   ]
  },
  {
   "cell_type": "code",
   "execution_count": null,
   "metadata": {},
   "outputs": [],
   "source": [
    "find_most_common_values(accre_cms_user_part_30_fail, 'NODELIST')"
   ]
  },
  {
   "cell_type": "markdown",
   "metadata": {},
   "source": [
    "Now determine the number of cancelled jobs under 30 minutes"
   ]
  },
  {
   "cell_type": "code",
   "execution_count": null,
   "metadata": {},
   "outputs": [],
   "source": [
    "accre_cms_user_part_30_cxl = accre_cms_user_part_30[accre_cms_user_part_30['STATE'] == 'CANCELLED']\n",
    "accre_cms_user_part_30_cxl"
   ]
  },
  {
   "cell_type": "code",
   "execution_count": null,
   "metadata": {},
   "outputs": [],
   "source": [
    "accre_cms_user_part_30_cxl.info()"
   ]
  },
  {
   "cell_type": "code",
   "execution_count": null,
   "metadata": {},
   "outputs": [],
   "source": [
    "# review cancelled jobs under 30 minutes' nodelist.  There are 626 unique nodelists\n",
    "accre_cms_user_part_30_cxl.NODELIST.describe()"
   ]
  },
  {
   "cell_type": "code",
   "execution_count": null,
   "metadata": {},
   "outputs": [],
   "source": [
    "accre_cms_user_part_30_cxl.EXITCODE.describe()"
   ]
  },
  {
   "cell_type": "code",
   "execution_count": null,
   "metadata": {},
   "outputs": [],
   "source": [
    "find_most_common_values(accre_cms_user_part_30_cxl, 'NODELIST')"
   ]
  },
  {
   "cell_type": "code",
   "execution_count": null,
   "metadata": {},
   "outputs": [],
   "source": [
    "accre_cms_user_part_30_cxl['STATE'].describe()"
   ]
  },
  {
   "cell_type": "code",
   "execution_count": null,
   "metadata": {},
   "outputs": [],
   "source": [
    "accre_cms_user_part_30.EXITCODE.unique()"
   ]
  },
  {
   "cell_type": "code",
   "execution_count": null,
   "metadata": {},
   "outputs": [],
   "source": [
    "accre.STATE.describe()"
   ]
  },
  {
   "cell_type": "code",
   "execution_count": null,
   "metadata": {},
   "outputs": [],
   "source": []
  },
  {
   "cell_type": "code",
   "execution_count": null,
   "metadata": {},
   "outputs": [],
   "source": [
    "accre_cms.PARTITION.describe()"
   ]
  },
  {
   "cell_type": "code",
   "execution_count": null,
   "metadata": {},
   "outputs": [],
   "source": [
    "accre_cms.PARTITION.unique()"
   ]
  },
  {
   "cell_type": "code",
   "execution_count": null,
   "metadata": {},
   "outputs": [],
   "source": [
    "# review failed nodes, first identify failed jobs\n",
    "failed = accre[accre['STATE'] == 'FAILED']\n",
    "failed"
   ]
  },
  {
   "cell_type": "code",
   "execution_count": null,
   "metadata": {},
   "outputs": [],
   "source": [
    "failed.info()"
   ]
  },
  {
   "cell_type": "code",
   "execution_count": null,
   "metadata": {},
   "outputs": [],
   "source": [
    "failed.NODELIST.unique()"
   ]
  },
  {
   "cell_type": "code",
   "execution_count": null,
   "metadata": {},
   "outputs": [],
   "source": [
    "failed.NODELIST.value_counts()"
   ]
  },
  {
   "cell_type": "code",
   "execution_count": null,
   "metadata": {},
   "outputs": [],
   "source": [
    "def find_most_common_values(df,column):\n",
    "    return df[column].value_counts(ascending=False).iloc[0:30]"
   ]
  },
  {
   "cell_type": "code",
   "execution_count": null,
   "metadata": {},
   "outputs": [],
   "source": [
    "find_most_common_values(failed, 'NODELIST')"
   ]
  },
  {
   "cell_type": "code",
   "execution_count": null,
   "metadata": {},
   "outputs": [],
   "source": [
    "#accre_cms = (accre_cms[\"ACCOUNT\"] == 'cms') & (accre_[\"USER\"] == 'cmslocal') | (accre[\"USER\"] == 'cmspilot')"
   ]
  },
  {
   "cell_type": "code",
   "execution_count": null,
   "metadata": {},
   "outputs": [],
   "source": [
    "#accre_cms_1hr = accre_cms_user_part(['USEDTIME_SEC'] < 3600)"
   ]
  },
  {
   "cell_type": "code",
   "execution_count": null,
   "metadata": {},
   "outputs": [],
   "source": [
    "#accre_cms_user_part_30.groupby('EXITCODE')['NODELIST']"
   ]
  },
  {
   "cell_type": "code",
   "execution_count": null,
   "metadata": {},
   "outputs": [],
   "source": [
    "#failed_part = accre[(accre[\"STATE\"] == 'FAILED') & (accre['PARTITION'] == 'production')]\n",
    "#failed.head() "
   ]
  }
 ],
 "metadata": {
  "kernelspec": {
   "display_name": "Python 3",
   "language": "python",
   "name": "python3"
  },
  "language_info": {
   "codemirror_mode": {
    "name": "ipython",
    "version": 3
   },
   "file_extension": ".py",
   "mimetype": "text/x-python",
   "name": "python",
   "nbconvert_exporter": "python",
   "pygments_lexer": "ipython3",
   "version": "3.8.3"
  }
 },
 "nbformat": 4,
 "nbformat_minor": 4
}
