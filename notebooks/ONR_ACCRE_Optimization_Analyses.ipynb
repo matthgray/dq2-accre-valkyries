{
 "cells": [
  {
   "cell_type": "code",
   "execution_count": 1,
   "metadata": {},
   "outputs": [],
   "source": [
    "# import pandas as pd\n",
    "# import numpy as np\n",
    "# import matplotlib.pyplot as plt\n",
    "# import seaborn as sns\n",
    "# import scipy.stats as stats\n",
    "# import statsmodels.api as sm\n",
    "\n",
    "# %matplotlib inline"
   ]
  },
  {
   "cell_type": "code",
   "execution_count": 2,
   "metadata": {},
   "outputs": [],
   "source": [
    "import pandas as pd\n",
    "import numpy as np\n",
    "from io import StringIO\n",
    "import re"
   ]
  },
  {
   "cell_type": "code",
   "execution_count": 3,
   "metadata": {},
   "outputs": [
    {
     "name": "stdout",
     "output_type": "stream",
     "text": [
      "            JOBID ACCOUNT      USER  REQMEM   USEDMEM     REQTIME  USEDTIME  \\\n",
      "1000000  18616746     cms  cmslocal  5000Mn  1284.14M  2-00:00:00  00:15:35   \n",
      "1000001  18616752     cms  cmslocal  5000Mn  1275.16M  2-00:00:00  00:11:41   \n",
      "1000002  18616754     cms  cmslocal  5000Mn  1259.60M  2-00:00:00  00:15:35   \n",
      "1000003  18616757     cms  cmslocal  5000Mn  1271.18M  2-00:00:00  00:15:36   \n",
      "1000004  18616758     cms  cmslocal  5000Mn  1260.83M  2-00:00:00  00:15:35   \n",
      "\n",
      "         NODES  CPUS   PARTITION EXITCODE      STATE NODELIST  \n",
      "1000000      1     1  production      0:0  COMPLETED   cn1423  \n",
      "1000001      1     1  production      0:0  COMPLETED   cn1424  \n",
      "1000002      1     1  production      0:0  COMPLETED   cn1311  \n",
      "1000003      1     1  production      0:0  COMPLETED   cn1311  \n",
      "1000004      1     1  production      0:0  COMPLETED    cn372  \n"
     ]
    }
   ],
   "source": [
    "for_pd = StringIO()\n",
    "with open('../data/accre-jobs-2020.csv') as accre:\n",
    "    for line in accre:\n",
    "        new_line = re.sub(r',', '|', line.rstrip(), count=12)\n",
    "        print (new_line, file=for_pd)\n",
    "\n",
    "for_pd.seek(0)\n",
    "\n",
    "accre_subset = pd.read_csv(for_pd, sep='|')[1000000:1200000]\n",
    "print(accre_subset.head())"
   ]
  },
  {
   "cell_type": "code",
   "execution_count": 4,
   "metadata": {},
   "outputs": [
    {
     "data": {
      "text/html": [
       "<div>\n",
       "<style scoped>\n",
       "    .dataframe tbody tr th:only-of-type {\n",
       "        vertical-align: middle;\n",
       "    }\n",
       "\n",
       "    .dataframe tbody tr th {\n",
       "        vertical-align: top;\n",
       "    }\n",
       "\n",
       "    .dataframe thead th {\n",
       "        text-align: right;\n",
       "    }\n",
       "</style>\n",
       "<table border=\"1\" class=\"dataframe\">\n",
       "  <thead>\n",
       "    <tr style=\"text-align: right;\">\n",
       "      <th></th>\n",
       "      <th>JOBID</th>\n",
       "      <th>ACCOUNT</th>\n",
       "      <th>USER</th>\n",
       "      <th>REQMEM</th>\n",
       "      <th>USEDMEM</th>\n",
       "      <th>REQTIME</th>\n",
       "      <th>USEDTIME</th>\n",
       "      <th>NODES</th>\n",
       "      <th>CPUS</th>\n",
       "      <th>PARTITION</th>\n",
       "      <th>EXITCODE</th>\n",
       "      <th>STATE</th>\n",
       "      <th>NODELIST</th>\n",
       "    </tr>\n",
       "  </thead>\n",
       "  <tbody>\n",
       "    <tr>\n",
       "      <th>1199995</th>\n",
       "      <td>19018067</td>\n",
       "      <td>round</td>\n",
       "      <td>solomon</td>\n",
       "      <td>40960Mn</td>\n",
       "      <td>34678.40M</td>\n",
       "      <td>23:00:00</td>\n",
       "      <td>10:32:23</td>\n",
       "      <td>1</td>\n",
       "      <td>8</td>\n",
       "      <td>production</td>\n",
       "      <td>0:0</td>\n",
       "      <td>COMPLETED</td>\n",
       "      <td>cn1315</td>\n",
       "    </tr>\n",
       "    <tr>\n",
       "      <th>1199996</th>\n",
       "      <td>19018068</td>\n",
       "      <td>round</td>\n",
       "      <td>solomon</td>\n",
       "      <td>40960Mn</td>\n",
       "      <td>34638.94M</td>\n",
       "      <td>23:00:00</td>\n",
       "      <td>02:15:35</td>\n",
       "      <td>1</td>\n",
       "      <td>8</td>\n",
       "      <td>production</td>\n",
       "      <td>0:0</td>\n",
       "      <td>COMPLETED</td>\n",
       "      <td>cn1371</td>\n",
       "    </tr>\n",
       "    <tr>\n",
       "      <th>1199997</th>\n",
       "      <td>19018069</td>\n",
       "      <td>round</td>\n",
       "      <td>solomon</td>\n",
       "      <td>40960Mn</td>\n",
       "      <td>34499.11M</td>\n",
       "      <td>23:00:00</td>\n",
       "      <td>05:25:33</td>\n",
       "      <td>1</td>\n",
       "      <td>8</td>\n",
       "      <td>production</td>\n",
       "      <td>0:0</td>\n",
       "      <td>COMPLETED</td>\n",
       "      <td>cn1420</td>\n",
       "    </tr>\n",
       "    <tr>\n",
       "      <th>1199998</th>\n",
       "      <td>19018070</td>\n",
       "      <td>round</td>\n",
       "      <td>solomon</td>\n",
       "      <td>40960Mn</td>\n",
       "      <td>34817.77M</td>\n",
       "      <td>23:00:00</td>\n",
       "      <td>02:16:56</td>\n",
       "      <td>1</td>\n",
       "      <td>8</td>\n",
       "      <td>production</td>\n",
       "      <td>0:0</td>\n",
       "      <td>COMPLETED</td>\n",
       "      <td>cn1379</td>\n",
       "    </tr>\n",
       "    <tr>\n",
       "      <th>1199999</th>\n",
       "      <td>19018071</td>\n",
       "      <td>round</td>\n",
       "      <td>solomon</td>\n",
       "      <td>40960Mn</td>\n",
       "      <td>34489.29M</td>\n",
       "      <td>23:00:00</td>\n",
       "      <td>01:50:30</td>\n",
       "      <td>1</td>\n",
       "      <td>8</td>\n",
       "      <td>production</td>\n",
       "      <td>0:0</td>\n",
       "      <td>COMPLETED</td>\n",
       "      <td>cn1404</td>\n",
       "    </tr>\n",
       "  </tbody>\n",
       "</table>\n",
       "</div>"
      ],
      "text/plain": [
       "            JOBID ACCOUNT     USER   REQMEM    USEDMEM   REQTIME  USEDTIME  \\\n",
       "1199995  19018067   round  solomon  40960Mn  34678.40M  23:00:00  10:32:23   \n",
       "1199996  19018068   round  solomon  40960Mn  34638.94M  23:00:00  02:15:35   \n",
       "1199997  19018069   round  solomon  40960Mn  34499.11M  23:00:00  05:25:33   \n",
       "1199998  19018070   round  solomon  40960Mn  34817.77M  23:00:00  02:16:56   \n",
       "1199999  19018071   round  solomon  40960Mn  34489.29M  23:00:00  01:50:30   \n",
       "\n",
       "         NODES  CPUS   PARTITION EXITCODE      STATE NODELIST  \n",
       "1199995      1     8  production      0:0  COMPLETED   cn1315  \n",
       "1199996      1     8  production      0:0  COMPLETED   cn1371  \n",
       "1199997      1     8  production      0:0  COMPLETED   cn1420  \n",
       "1199998      1     8  production      0:0  COMPLETED   cn1379  \n",
       "1199999      1     8  production      0:0  COMPLETED   cn1404  "
      ]
     },
     "execution_count": 4,
     "metadata": {},
     "output_type": "execute_result"
    }
   ],
   "source": [
    "accre_subset.tail()"
   ]
  },
  {
   "cell_type": "code",
   "execution_count": 5,
   "metadata": {},
   "outputs": [
    {
     "name": "stdout",
     "output_type": "stream",
     "text": [
      "<class 'pandas.core.frame.DataFrame'>\n",
      "RangeIndex: 200000 entries, 1000000 to 1199999\n",
      "Data columns (total 13 columns):\n",
      " #   Column     Non-Null Count   Dtype \n",
      "---  ------     --------------   ----- \n",
      " 0   JOBID      200000 non-null  object\n",
      " 1   ACCOUNT    200000 non-null  object\n",
      " 2   USER       200000 non-null  object\n",
      " 3   REQMEM     200000 non-null  object\n",
      " 4   USEDMEM    200000 non-null  object\n",
      " 5   REQTIME    200000 non-null  object\n",
      " 6   USEDTIME   200000 non-null  object\n",
      " 7   NODES      200000 non-null  int64 \n",
      " 8   CPUS       200000 non-null  int64 \n",
      " 9   PARTITION  200000 non-null  object\n",
      " 10  EXITCODE   200000 non-null  object\n",
      " 11  STATE      200000 non-null  object\n",
      " 12  NODELIST   200000 non-null  object\n",
      "dtypes: int64(2), object(11)\n",
      "memory usage: 19.8+ MB\n"
     ]
    }
   ],
   "source": [
    "accre_subset.info()"
   ]
  },
  {
   "cell_type": "code",
   "execution_count": 6,
   "metadata": {},
   "outputs": [
    {
     "data": {
      "text/plain": [
       "vm-cms-sam-pri                         1877\n",
       "cn1266                                 1576\n",
       "vm-cms-sam-sec                         1337\n",
       "cn1367                                 1016\n",
       "cn1441                                  928\n",
       "                                       ... \n",
       "cn[1289-1292]                             1\n",
       "cn[1453,1467]                             1\n",
       "cn[1467,1469]                             1\n",
       "cn[1298,1421]                             1\n",
       "cn[327-328,411-414,472-473,493-498]       1\n",
       "Name: NODELIST, Length: 887, dtype: int64"
      ]
     },
     "execution_count": 6,
     "metadata": {},
     "output_type": "execute_result"
    }
   ],
   "source": [
    "accre_subset['NODELIST'].value_counts()"
   ]
  },
  {
   "cell_type": "code",
   "execution_count": 7,
   "metadata": {},
   "outputs": [],
   "source": [
    "accre_subset['REQMEM_NO'] = 'REQMEM'.split"
   ]
  },
  {
   "cell_type": "code",
   "execution_count": 8,
   "metadata": {},
   "outputs": [
    {
     "data": {
      "text/plain": [
       "'5000Mn'"
      ]
     },
     "execution_count": 8,
     "metadata": {},
     "output_type": "execute_result"
    }
   ],
   "source": [
    "test_split = accre_subset.loc[1000000, 'REQMEM']\n",
    "test_split"
   ]
  },
  {
   "cell_type": "code",
   "execution_count": 9,
   "metadata": {},
   "outputs": [
    {
     "data": {
      "text/plain": [
       "['5000']"
      ]
     },
     "execution_count": 9,
     "metadata": {},
     "output_type": "execute_result"
    }
   ],
   "source": [
    "re.findall(r\"\\d+\", test_split)"
   ]
  },
  {
   "cell_type": "code",
   "execution_count": 12,
   "metadata": {},
   "outputs": [
    {
     "data": {
      "text/plain": [
       "['Mn']"
      ]
     },
     "execution_count": 12,
     "metadata": {},
     "output_type": "execute_result"
    }
   ],
   "source": [
    "re.findall(r\"..$\", test_split)\n",
    "# re.findall(r\"\\D+\", test_split) also works"
   ]
  },
  {
   "cell_type": "code",
   "execution_count": 13,
   "metadata": {},
   "outputs": [],
   "source": [
    "accre_subset['REQMEM_NO'] = accre_subset['REQMEM'].str.extract('(\\d+)')"
   ]
  },
  {
   "cell_type": "code",
   "execution_count": 14,
   "metadata": {},
   "outputs": [],
   "source": [
    "accre_subset['REQMEM_TYP'] = accre_subset['REQMEM'].str.extract('(..$)')"
   ]
  },
  {
   "cell_type": "code",
   "execution_count": 28,
   "metadata": {},
   "outputs": [
    {
     "data": {
      "text/html": [
       "<div>\n",
       "<style scoped>\n",
       "    .dataframe tbody tr th:only-of-type {\n",
       "        vertical-align: middle;\n",
       "    }\n",
       "\n",
       "    .dataframe tbody tr th {\n",
       "        vertical-align: top;\n",
       "    }\n",
       "\n",
       "    .dataframe thead th {\n",
       "        text-align: right;\n",
       "    }\n",
       "</style>\n",
       "<table border=\"1\" class=\"dataframe\">\n",
       "  <thead>\n",
       "    <tr style=\"text-align: right;\">\n",
       "      <th></th>\n",
       "      <th>JOBID</th>\n",
       "      <th>ACCOUNT</th>\n",
       "      <th>USER</th>\n",
       "      <th>REQMEM</th>\n",
       "      <th>USEDMEM</th>\n",
       "      <th>REQTIME</th>\n",
       "      <th>USEDTIME</th>\n",
       "      <th>NODES</th>\n",
       "      <th>CPUS</th>\n",
       "      <th>PARTITION</th>\n",
       "      <th>EXITCODE</th>\n",
       "      <th>STATE</th>\n",
       "      <th>NODELIST</th>\n",
       "      <th>REQMEM_NO</th>\n",
       "      <th>REQMEM_TYP</th>\n",
       "    </tr>\n",
       "  </thead>\n",
       "  <tbody>\n",
       "    <tr>\n",
       "      <th>1000000</th>\n",
       "      <td>18616746</td>\n",
       "      <td>cms</td>\n",
       "      <td>cmslocal</td>\n",
       "      <td>5000Mn</td>\n",
       "      <td>1284.14M</td>\n",
       "      <td>2-00:00:00</td>\n",
       "      <td>00:15:35</td>\n",
       "      <td>1</td>\n",
       "      <td>1</td>\n",
       "      <td>production</td>\n",
       "      <td>0:0</td>\n",
       "      <td>COMPLETED</td>\n",
       "      <td>cn1423</td>\n",
       "      <td>5000</td>\n",
       "      <td>Mn</td>\n",
       "    </tr>\n",
       "    <tr>\n",
       "      <th>1000001</th>\n",
       "      <td>18616752</td>\n",
       "      <td>cms</td>\n",
       "      <td>cmslocal</td>\n",
       "      <td>5000Mn</td>\n",
       "      <td>1275.16M</td>\n",
       "      <td>2-00:00:00</td>\n",
       "      <td>00:11:41</td>\n",
       "      <td>1</td>\n",
       "      <td>1</td>\n",
       "      <td>production</td>\n",
       "      <td>0:0</td>\n",
       "      <td>COMPLETED</td>\n",
       "      <td>cn1424</td>\n",
       "      <td>5000</td>\n",
       "      <td>Mn</td>\n",
       "    </tr>\n",
       "    <tr>\n",
       "      <th>1000002</th>\n",
       "      <td>18616754</td>\n",
       "      <td>cms</td>\n",
       "      <td>cmslocal</td>\n",
       "      <td>5000Mn</td>\n",
       "      <td>1259.60M</td>\n",
       "      <td>2-00:00:00</td>\n",
       "      <td>00:15:35</td>\n",
       "      <td>1</td>\n",
       "      <td>1</td>\n",
       "      <td>production</td>\n",
       "      <td>0:0</td>\n",
       "      <td>COMPLETED</td>\n",
       "      <td>cn1311</td>\n",
       "      <td>5000</td>\n",
       "      <td>Mn</td>\n",
       "    </tr>\n",
       "    <tr>\n",
       "      <th>1000003</th>\n",
       "      <td>18616757</td>\n",
       "      <td>cms</td>\n",
       "      <td>cmslocal</td>\n",
       "      <td>5000Mn</td>\n",
       "      <td>1271.18M</td>\n",
       "      <td>2-00:00:00</td>\n",
       "      <td>00:15:36</td>\n",
       "      <td>1</td>\n",
       "      <td>1</td>\n",
       "      <td>production</td>\n",
       "      <td>0:0</td>\n",
       "      <td>COMPLETED</td>\n",
       "      <td>cn1311</td>\n",
       "      <td>5000</td>\n",
       "      <td>Mn</td>\n",
       "    </tr>\n",
       "    <tr>\n",
       "      <th>1000004</th>\n",
       "      <td>18616758</td>\n",
       "      <td>cms</td>\n",
       "      <td>cmslocal</td>\n",
       "      <td>5000Mn</td>\n",
       "      <td>1260.83M</td>\n",
       "      <td>2-00:00:00</td>\n",
       "      <td>00:15:35</td>\n",
       "      <td>1</td>\n",
       "      <td>1</td>\n",
       "      <td>production</td>\n",
       "      <td>0:0</td>\n",
       "      <td>COMPLETED</td>\n",
       "      <td>cn372</td>\n",
       "      <td>5000</td>\n",
       "      <td>Mn</td>\n",
       "    </tr>\n",
       "    <tr>\n",
       "      <th>1000005</th>\n",
       "      <td>18616762</td>\n",
       "      <td>cms</td>\n",
       "      <td>cmslocal</td>\n",
       "      <td>5000Mn</td>\n",
       "      <td>1258.38M</td>\n",
       "      <td>2-00:00:00</td>\n",
       "      <td>00:15:35</td>\n",
       "      <td>1</td>\n",
       "      <td>1</td>\n",
       "      <td>production</td>\n",
       "      <td>0:0</td>\n",
       "      <td>COMPLETED</td>\n",
       "      <td>cn361</td>\n",
       "      <td>5000</td>\n",
       "      <td>Mn</td>\n",
       "    </tr>\n",
       "    <tr>\n",
       "      <th>1000006</th>\n",
       "      <td>18616763</td>\n",
       "      <td>cmsadmin</td>\n",
       "      <td>autocms</td>\n",
       "      <td>2048Mc</td>\n",
       "      <td>828.82M</td>\n",
       "      <td>12:00:00</td>\n",
       "      <td>00:05:08</td>\n",
       "      <td>1</td>\n",
       "      <td>1</td>\n",
       "      <td>production</td>\n",
       "      <td>0:0</td>\n",
       "      <td>COMPLETED</td>\n",
       "      <td>cn1122</td>\n",
       "      <td>2048</td>\n",
       "      <td>Mc</td>\n",
       "    </tr>\n",
       "    <tr>\n",
       "      <th>1000007</th>\n",
       "      <td>18616858</td>\n",
       "      <td>cms</td>\n",
       "      <td>cmspilot</td>\n",
       "      <td>28000Mn</td>\n",
       "      <td>2846.65M</td>\n",
       "      <td>2-00:00:00</td>\n",
       "      <td>01:12:11</td>\n",
       "      <td>1</td>\n",
       "      <td>4</td>\n",
       "      <td>production</td>\n",
       "      <td>0:0</td>\n",
       "      <td>COMPLETED</td>\n",
       "      <td>cn1299</td>\n",
       "      <td>28000</td>\n",
       "      <td>Mn</td>\n",
       "    </tr>\n",
       "    <tr>\n",
       "      <th>1000008</th>\n",
       "      <td>18616859</td>\n",
       "      <td>cms</td>\n",
       "      <td>cmspilot</td>\n",
       "      <td>28000Mn</td>\n",
       "      <td>9838.76M</td>\n",
       "      <td>2-00:00:00</td>\n",
       "      <td>1-22:25:09</td>\n",
       "      <td>1</td>\n",
       "      <td>4</td>\n",
       "      <td>production</td>\n",
       "      <td>0:0</td>\n",
       "      <td>COMPLETED</td>\n",
       "      <td>cn1299</td>\n",
       "      <td>28000</td>\n",
       "      <td>Mn</td>\n",
       "    </tr>\n",
       "    <tr>\n",
       "      <th>1000009</th>\n",
       "      <td>18616860</td>\n",
       "      <td>cms</td>\n",
       "      <td>cmspilot</td>\n",
       "      <td>28000Mn</td>\n",
       "      <td>4915.84M</td>\n",
       "      <td>2-00:00:00</td>\n",
       "      <td>20:12:20</td>\n",
       "      <td>1</td>\n",
       "      <td>4</td>\n",
       "      <td>production</td>\n",
       "      <td>0:0</td>\n",
       "      <td>COMPLETED</td>\n",
       "      <td>cn1356</td>\n",
       "      <td>28000</td>\n",
       "      <td>Mn</td>\n",
       "    </tr>\n",
       "  </tbody>\n",
       "</table>\n",
       "</div>"
      ],
      "text/plain": [
       "            JOBID   ACCOUNT      USER   REQMEM   USEDMEM     REQTIME  \\\n",
       "1000000  18616746       cms  cmslocal   5000Mn  1284.14M  2-00:00:00   \n",
       "1000001  18616752       cms  cmslocal   5000Mn  1275.16M  2-00:00:00   \n",
       "1000002  18616754       cms  cmslocal   5000Mn  1259.60M  2-00:00:00   \n",
       "1000003  18616757       cms  cmslocal   5000Mn  1271.18M  2-00:00:00   \n",
       "1000004  18616758       cms  cmslocal   5000Mn  1260.83M  2-00:00:00   \n",
       "1000005  18616762       cms  cmslocal   5000Mn  1258.38M  2-00:00:00   \n",
       "1000006  18616763  cmsadmin   autocms   2048Mc   828.82M    12:00:00   \n",
       "1000007  18616858       cms  cmspilot  28000Mn  2846.65M  2-00:00:00   \n",
       "1000008  18616859       cms  cmspilot  28000Mn  9838.76M  2-00:00:00   \n",
       "1000009  18616860       cms  cmspilot  28000Mn  4915.84M  2-00:00:00   \n",
       "\n",
       "           USEDTIME  NODES  CPUS   PARTITION EXITCODE      STATE NODELIST  \\\n",
       "1000000    00:15:35      1     1  production      0:0  COMPLETED   cn1423   \n",
       "1000001    00:11:41      1     1  production      0:0  COMPLETED   cn1424   \n",
       "1000002    00:15:35      1     1  production      0:0  COMPLETED   cn1311   \n",
       "1000003    00:15:36      1     1  production      0:0  COMPLETED   cn1311   \n",
       "1000004    00:15:35      1     1  production      0:0  COMPLETED    cn372   \n",
       "1000005    00:15:35      1     1  production      0:0  COMPLETED    cn361   \n",
       "1000006    00:05:08      1     1  production      0:0  COMPLETED   cn1122   \n",
       "1000007    01:12:11      1     4  production      0:0  COMPLETED   cn1299   \n",
       "1000008  1-22:25:09      1     4  production      0:0  COMPLETED   cn1299   \n",
       "1000009    20:12:20      1     4  production      0:0  COMPLETED   cn1356   \n",
       "\n",
       "        REQMEM_NO REQMEM_TYP  \n",
       "1000000      5000         Mn  \n",
       "1000001      5000         Mn  \n",
       "1000002      5000         Mn  \n",
       "1000003      5000         Mn  \n",
       "1000004      5000         Mn  \n",
       "1000005      5000         Mn  \n",
       "1000006      2048         Mc  \n",
       "1000007     28000         Mn  \n",
       "1000008     28000         Mn  \n",
       "1000009     28000         Mn  "
      ]
     },
     "execution_count": 28,
     "metadata": {},
     "output_type": "execute_result"
    }
   ],
   "source": [
    "accre_subset.head(10)"
   ]
  },
  {
   "cell_type": "code",
   "execution_count": 16,
   "metadata": {},
   "outputs": [
    {
     "name": "stdout",
     "output_type": "stream",
     "text": [
      "<class 'pandas.core.frame.DataFrame'>\n",
      "RangeIndex: 200000 entries, 1000000 to 1199999\n",
      "Data columns (total 15 columns):\n",
      " #   Column      Non-Null Count   Dtype \n",
      "---  ------      --------------   ----- \n",
      " 0   JOBID       200000 non-null  object\n",
      " 1   ACCOUNT     200000 non-null  object\n",
      " 2   USER        200000 non-null  object\n",
      " 3   REQMEM      200000 non-null  object\n",
      " 4   USEDMEM     200000 non-null  object\n",
      " 5   REQTIME     200000 non-null  object\n",
      " 6   USEDTIME    200000 non-null  object\n",
      " 7   NODES       200000 non-null  int64 \n",
      " 8   CPUS        200000 non-null  int64 \n",
      " 9   PARTITION   200000 non-null  object\n",
      " 10  EXITCODE    200000 non-null  object\n",
      " 11  STATE       200000 non-null  object\n",
      " 12  NODELIST    200000 non-null  object\n",
      " 13  REQMEM_NO   200000 non-null  object\n",
      " 14  REQMEM_TYP  200000 non-null  object\n",
      "dtypes: int64(2), object(13)\n",
      "memory usage: 22.9+ MB\n"
     ]
    }
   ],
   "source": [
    "accre_subset.info()"
   ]
  },
  {
   "cell_type": "code",
   "execution_count": 17,
   "metadata": {},
   "outputs": [
    {
     "data": {
      "text/plain": [
       "1000000     5000\n",
       "1000001     5000\n",
       "1000002     5000\n",
       "1000003     5000\n",
       "1000004     5000\n",
       "           ...  \n",
       "1199995    40960\n",
       "1199996    40960\n",
       "1199997    40960\n",
       "1199998    40960\n",
       "1199999    40960\n",
       "Name: REQMEM_NO, Length: 200000, dtype: int64"
      ]
     },
     "execution_count": 17,
     "metadata": {},
     "output_type": "execute_result"
    }
   ],
   "source": [
    "pd.to_numeric(accre_subset['REQMEM_NO'])"
   ]
  },
  {
   "cell_type": "code",
   "execution_count": 24,
   "metadata": {
    "scrolled": true
   },
   "outputs": [],
   "source": [
    "accre_subset[accre_subset['REQMEM_TYP'] == 'Mn']\n",
    "test_mc = accre_subset.loc[1000006, 'REQMEM_NO']\n",
    "test_mn = accre_subset.loc[1000000,'REQMEM_NO']"
   ]
  },
  {
   "cell_type": "code",
   "execution_count": 26,
   "metadata": {},
   "outputs": [
    {
     "data": {
      "text/plain": [
       "'2048'"
      ]
     },
     "execution_count": 26,
     "metadata": {},
     "output_type": "execute_result"
    }
   ],
   "source": [
    "test_mc"
   ]
  },
  {
   "cell_type": "code",
   "execution_count": 27,
   "metadata": {
    "scrolled": false
   },
   "outputs": [
    {
     "data": {
      "text/plain": [
       "'5000'"
      ]
     },
     "execution_count": 27,
     "metadata": {},
     "output_type": "execute_result"
    }
   ],
   "source": [
    "test_mn"
   ]
  },
  {
   "cell_type": "code",
   "execution_count": 30,
   "metadata": {},
   "outputs": [
    {
     "data": {
      "text/plain": [
       "REQMEM_NO       5000\n",
       "REQMEM        5000Mn\n",
       "NODES              1\n",
       "CPUS               1\n",
       "REQMEM_TYP        Mn\n",
       "Name: 1000000, dtype: object"
      ]
     },
     "execution_count": 30,
     "metadata": {},
     "output_type": "execute_result"
    }
   ],
   "source": [
    "test_mn = accre_subset.loc[1000000,['REQMEM_NO', 'REQMEM', 'NODES', 'CPUS', 'REQMEM_TYP']]\n",
    "test_mn[]\n",
    "test_mn"
   ]
  },
  {
   "cell_type": "code",
   "execution_count": 31,
   "metadata": {},
   "outputs": [
    {
     "data": {
      "text/plain": [
       "REQMEM_NO       2048\n",
       "REQMEM        2048Mc\n",
       "NODES              1\n",
       "CPUS               1\n",
       "REQMEM_TYP        Mc\n",
       "Name: 1000006, dtype: object"
      ]
     },
     "execution_count": 31,
     "metadata": {},
     "output_type": "execute_result"
    }
   ],
   "source": [
    "test_mc = accre_subset.loc[1000006,['REQMEM_NO', 'REQMEM', 'NODES', 'CPUS', 'REQMEM_TYP']]\n",
    "test_mc"
   ]
  },
  {
   "cell_type": "code",
   "execution_count": null,
   "metadata": {},
   "outputs": [],
   "source": [
    "# IF REQMEM_TYP = Mn\n",
    "# REQMEM = REQMEM_NO * (NODES/CPUS)\n",
    "test_mn['REQMEM_NO']"
   ]
  },
  {
   "cell_type": "code",
   "execution_count": null,
   "metadata": {},
   "outputs": [],
   "source": [
    "if test_mc['REQMEM_TYPE'] == 'Mc':\n",
    "    print(test_mc['REQMEM_NO'])\n",
    "elif test_mc['REQMEM_TYPE'] == 'Mn':\n",
    "    print(test_mc['REQMEM_NO'] * (test_mc['NODES']/test_mc['CPU']))\n"
   ]
  }
 ],
 "metadata": {
  "kernelspec": {
   "display_name": "Python 3",
   "language": "python",
   "name": "python3"
  },
  "language_info": {
   "codemirror_mode": {
    "name": "ipython",
    "version": 3
   },
   "file_extension": ".py",
   "mimetype": "text/x-python",
   "name": "python",
   "nbconvert_exporter": "python",
   "pygments_lexer": "ipython3",
   "version": "3.8.3"
  }
 },
 "nbformat": 4,
 "nbformat_minor": 4
}
