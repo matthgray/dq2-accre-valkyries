{
 "cells": [
  {
   "cell_type": "code",
   "execution_count": 1,
   "metadata": {},
   "outputs": [],
   "source": [
    "import pandas as pd\n",
    "import numpy as np\n",
    "from io import StringIO\n",
    "import re\n",
    "import random\n",
    "from datetime import datetime\n",
    "from datetime import timedelta\n",
    "import time\n",
    "%matplotlib inline"
   ]
  },
  {
   "cell_type": "code",
   "execution_count": 2,
   "metadata": {},
   "outputs": [],
   "source": [
    "pd.set_option('display.max_rows', 500)\n",
    "pd.set_option('display.max_columns', 500)\n",
    "pd.set_option('display.width', 1000)"
   ]
  },
  {
   "cell_type": "code",
   "execution_count": 3,
   "metadata": {},
   "outputs": [
    {
     "name": "stdout",
     "output_type": "stream",
     "text": [
      "      JOBID  ACCOUNT      USER    REQMEM    USEDMEM      REQTIME     USEDTIME  NODES  CPUS   PARTITION EXITCODE      STATE NODELIST\n",
      "0  15925210  treviso  arabella  122880Mn  65973.49M  13-18:00:00  13-18:00:28      1    24  production      0:0  COMPLETED   cn1531\n",
      "1  15861126  treviso  arabella  122880Mn  67181.12M  13-18:00:00  12-14:50:56      1    24  production      0:0  COMPLETED   cn1441\n",
      "2  15861125  treviso  arabella  122880Mn  69111.86M  13-18:00:00  13-18:00:20      1    24  production      0:0  COMPLETED   cn1464\n",
      "3  16251645  treviso  arabella  122880Mn  65317.33M  13-18:00:00  12-03:50:32      1    24  production      0:0  COMPLETED   cn1473\n",
      "4  16251646  treviso  arabella  122880Mn  65876.11M  13-18:00:00  13-18:00:03      1    24  production      0:0  COMPLETED   cn1440\n"
     ]
    }
   ],
   "source": [
    "# reformat the CSV to use | instead of , to separate rows, then import [a selection] of the data as a dataframe\n",
    "for_pd = StringIO()\n",
    "with open('../data/accre-jobs-2020.csv') as accre:\n",
    "    for line in accre:\n",
    "        new_line = re.sub(r',', '|', line.rstrip(), count=12)\n",
    "        print (new_line, file=for_pd)\n",
    "\n",
    "for_pd.seek(0)\n",
    "\n",
    "accre = pd.read_csv(for_pd, sep='|')#[1000000:1005000] # add this to subset\n",
    "print (accre.head())"
   ]
  },
  {
   "cell_type": "code",
   "execution_count": 4,
   "metadata": {},
   "outputs": [],
   "source": [
    "# ALTERNATIVE METHOD:\n",
    "# To fully randomize the data, we could do the following:\n",
    "# import pandas as pd\n",
    "# import random\n",
    "\n",
    "# The data to load\n",
    "# f = \"my_data.csv\"\n",
    "\n",
    "# Count the lines\n",
    "# num_lines = sum(1 for l in open(for_pd))\n",
    "\n",
    "# Sample size - in this case ~10%\n",
    "# size = int(num_lines / 10)\n",
    "\n",
    "# The row indices to skip - make sure 0 is not included to keep the header!\n",
    "# skip_idx = random.sample(range(1, num_lines), num_lines - size)\n",
    "\n",
    "# Read the data\n",
    "# data = pd.read_csv(f, skiprows=skip_idx, ... )"
   ]
  },
  {
   "cell_type": "code",
   "execution_count": 5,
   "metadata": {
    "scrolled": true
   },
   "outputs": [
    {
     "name": "stdout",
     "output_type": "stream",
     "text": [
      "<class 'pandas.core.frame.DataFrame'>\n",
      "RangeIndex: 3816290 entries, 0 to 3816289\n",
      "Data columns (total 13 columns):\n",
      " #   Column     Dtype \n",
      "---  ------     ----- \n",
      " 0   JOBID      object\n",
      " 1   ACCOUNT    object\n",
      " 2   USER       object\n",
      " 3   REQMEM     object\n",
      " 4   USEDMEM    object\n",
      " 5   REQTIME    object\n",
      " 6   USEDTIME   object\n",
      " 7   NODES      int64 \n",
      " 8   CPUS       int64 \n",
      " 9   PARTITION  object\n",
      " 10  EXITCODE   object\n",
      " 11  STATE      object\n",
      " 12  NODELIST   object\n",
      "dtypes: int64(2), object(11)\n",
      "memory usage: 378.5+ MB\n"
     ]
    }
   ],
   "source": [
    "# Take a look at the columns in the dataframe\n",
    "accre.info()"
   ]
  },
  {
   "cell_type": "code",
   "execution_count": 6,
   "metadata": {},
   "outputs": [
    {
     "name": "stdout",
     "output_type": "stream",
     "text": [
      "production              3311788\n",
      "nogpfs                   327652\n",
      "sam                       79151\n",
      "pascal                    48004\n",
      "turing                    39406\n",
      "debug                      6738\n",
      "maxwell                    3348\n",
      "cgw-capra1                   83\n",
      "cgw-dougherty1               72\n",
      "cgw-cqs1                     34\n",
      "cgw-vm-qa-flatearth1          4\n",
      "cgw-cqs3                      4\n",
      "devel                         2\n",
      "cgw-tbi01                     2\n",
      "cgw-rocksteady                2\n",
      "Name: PARTITION, dtype: int64\n",
      "COMPLETED              3804644\n",
      "CANCELLED                 6107\n",
      "RUNNING                   3108\n",
      "FAILED                    1406\n",
      "CANCELLED by 686562        681\n",
      "OUT_OF_MEMORY               94\n",
      "TIMEOUT                     80\n",
      "CANCELLED by 505355         63\n",
      "CANCELLED by 855431         17\n",
      "CANCELLED by 782611         13\n",
      "CANCELLED by 9206            9\n",
      "CANCELLED by 397600          7\n",
      "CANCELLED by 200557          6\n",
      "CANCELLED by 0               5\n",
      "CANCELLED by 486541          4\n",
      "CANCELLED by 454080          4\n",
      "CANCELLED by 199766          4\n",
      "CANCELLED by 649319          3\n",
      "CANCELLED by 483348          3\n",
      "CANCELLED by 9201            3\n",
      "CANCELLED by 9202            3\n",
      "CANCELLED by 666860          2\n",
      "CANCELLED by 124006          2\n",
      "CANCELLED by 515423          2\n",
      "CANCELLED by 199066          2\n",
      "CANCELLED by 895426          2\n",
      "CANCELLED by 546080          2\n",
      "CANCELLED by 791651          2\n",
      "CANCELLED by 693461          2\n",
      "CANCELLED by 90423           2\n",
      "CANCELLED by 503585          1\n",
      "CANCELLED by 763605          1\n",
      "CANCELLED by 337422          1\n",
      "CANCELLED by 782535          1\n",
      "CANCELLED by 781109          1\n",
      "CANCELLED by 649321          1\n",
      "CANCELLED by 785271          1\n",
      "CANCELLED by 651701          1\n",
      "Name: STATE, dtype: int64\n"
     ]
    }
   ],
   "source": [
    "# Look at some of the values and how often they appear in the dataframe:\n",
    "print(accre.PARTITION.value_counts())\n",
    "print(accre.STATE.value_counts())"
   ]
  },
  {
   "cell_type": "markdown",
   "metadata": {},
   "source": [
    "### Data Cleaning"
   ]
  },
  {
   "cell_type": "markdown",
   "metadata": {},
   "source": [
    "First, clean up and standardize the ``REQMEM`` and ``USEDMEM`` columns so that they contain both values per CPU."
   ]
  },
  {
   "cell_type": "code",
   "execution_count": 7,
   "metadata": {},
   "outputs": [
    {
     "name": "stdout",
     "output_type": "stream",
     "text": [
      "5000Mn\n",
      "['5000']\n",
      "['Mn']\n",
      "['Mn']\n"
     ]
    }
   ],
   "source": [
    "# Grab a test string to test the RegExes\n",
    "test_split = accre.loc[1000000,'REQMEM']\n",
    "print(test_split)\n",
    "# Use the re.findall() method to get the number for REQMEM\n",
    "print(re.findall(r'\\d+', test_split))\n",
    "# Get the unit of measure for REQMEM\n",
    "print(re.findall(r'..$', test_split))\n",
    "# alternatively:\n",
    "print(re.findall(r'\\D+', test_split))"
   ]
  },
  {
   "cell_type": "code",
   "execution_count": 8,
   "metadata": {},
   "outputs": [],
   "source": [
    "# Create a new column REQMEM_NO which only contains the number\n",
    "accre['REQMEM_NO'] = accre['REQMEM'].str.extract('(\\d+)')\n",
    "# Create a new column REQMEM_TYPE which only contains the type\n",
    "accre['REQMEM_TYPE'] = accre['REQMEM'].str.extract('(\\D+)')\n",
    "# Convert REQMEM_NO to a mathable data type\n",
    "accre['REQMEM_NO'] = pd.to_numeric(accre['REQMEM_NO'])"
   ]
  },
  {
   "cell_type": "code",
   "execution_count": 9,
   "metadata": {},
   "outputs": [],
   "source": [
    "# Slice the dataframe by REQMEM_TYPE to get some sample values to test\n",
    "# print(accre[accre['REQMEM_TYPE'] == 'Mc'].head(50))\n",
    "# print(accre[accre['REQMEM_TYPE'] == 'Mn'].head(50))"
   ]
  },
  {
   "cell_type": "code",
   "execution_count": 10,
   "metadata": {},
   "outputs": [
    {
     "name": "stdout",
     "output_type": "stream",
     "text": [
      "REQMEM_NO        5000\n",
      "REQMEM         5000Mn\n",
      "NODES               1\n",
      "CPUS                5\n",
      "REQMEM_TYPE        Mn\n",
      "Name: 1000000, dtype: object\n",
      "REQMEM_NO        2048\n",
      "REQMEM         2048Mc\n",
      "NODES               1\n",
      "CPUS                5\n",
      "REQMEM_TYPE        Mc\n",
      "Name: 1000006, dtype: object\n"
     ]
    }
   ],
   "source": [
    "# Create a test variable for each data type for the if-elif statement\n",
    "test_mn = accre.loc[1000000, ['REQMEM_NO', 'REQMEM', 'NODES', 'CPUS', 'REQMEM_TYPE']]\n",
    "test_mn['CPUS'] = 5\n",
    "print(test_mn)\n",
    "test_mc = accre.loc[1000006, ['REQMEM_NO', 'REQMEM', 'NODES', 'CPUS', 'REQMEM_TYPE']]\n",
    "test_mc['CPUS'] = 5\n",
    "print(test_mc)"
   ]
  },
  {
   "cell_type": "markdown",
   "metadata": {},
   "source": [
    "The logic we need:\n",
    "* IF there are 5 CPUs per 1 Node\n",
    "* AND REQMEM in mn = 15M\n",
    "* THEN REQMEM per mc = 1 / 5 * 15 = 3M per c = node# / CPU# * mn#\n",
    "* ELSE REQMEM_NO  \n",
    "\n",
    "Possible code (draft, incomplete for loop) =  \n",
    "\n",
    "    for row in accre:\n",
    "    accre['REQMEM_CVT'] = 0\n",
    "    \n",
    "    if REQMEM_TYPE == 'Mc':\n",
    "        accre['REQMEM_CVT'] = accre['REQMEM_NO']\n",
    "        \n",
    "    elif REQMEM_TYPE == 'Mn':\n",
    "        accre['REQMEM_CVT'] = (accre['REQMEM_NO'] * (accre['NODES']/accre['CPUS']))\n",
    "        \n",
    "What that looks like in code =\n",
    "\n",
    "    # If statement, tested on MC:\n",
    "    if test_mc['REQMEM_TYPE'] == 'Mc':\n",
    "        print(test_mc['REQMEM_NO'])\n",
    "    elif test_mc['REQMEM_TYPE'] == 'Mn':\n",
    "        print(test_mc['REQMEM_NO'] * (test_mc['NODES']/test_mc['CPUS']))\n",
    "    \n",
    "    # If statement, tested on Mn:\n",
    "    if test_mn['REQMEM_TYPE'] == 'Mc':\n",
    "        print(test_mn['REQMEM_NO'])\n",
    "    elif test_mn['REQMEM_TYPE'] == 'Mn':\n",
    "        print(test_mn['REQMEM_NO'] * (test_mn['NODES']/test_mn['CPUS']))"
   ]
  },
  {
   "cell_type": "code",
   "execution_count": 11,
   "metadata": {
    "scrolled": true
   },
   "outputs": [],
   "source": [
    "# Create a new calculated field 'REQMEM_PER_CORE' which checks the original REQMEM_TYPE before returning a value\n",
    "accre['REQMEM_PER_CORE'] = np.where((accre['REQMEM_TYPE'] == 'Mn'), \\\n",
    "                                      (accre['REQMEM_NO'] * (accre['NODES']/accre['CPUS'])), \\\n",
    "                                       accre['REQMEM_NO'])\n",
    "# Check to see if it worked\n",
    "# accre.head(200)"
   ]
  },
  {
   "cell_type": "code",
   "execution_count": 12,
   "metadata": {},
   "outputs": [],
   "source": [
    "# Create a new column USEDMEM_NO which only contains the number\n",
    "accre['USEDMEM_NO'] = accre['USEDMEM'].str.extract('(\\d+)')\n",
    "# Create a new column USEDMEM_TYPE which only contains the type (in case there are multiple, which there are not)\n",
    "accre['USEDMEM_TYPE'] = accre['USEDMEM'].str.extract('(\\D$)')\n",
    "# Convert USEDMEM_NO to a mathable data type\n",
    "accre['USEDMEM_NO'] = pd.to_numeric(accre['USEDMEM_NO'])\n",
    "# Create new calculated field USEDMEM_PER_CORE\n",
    "accre['USEDMEM_PER_CORE'] = accre['USEDMEM_NO'] / accre['CPUS']"
   ]
  },
  {
   "cell_type": "code",
   "execution_count": 13,
   "metadata": {
    "scrolled": true
   },
   "outputs": [],
   "source": [
    "# Check that the dataframe looks right with all of the new columns\n",
    "# accre.head(500)"
   ]
  },
  {
   "cell_type": "markdown",
   "metadata": {},
   "source": [
    "Next, convert the fields ``REQTIME`` and ``USEDTIME`` to seconds."
   ]
  },
  {
   "cell_type": "code",
   "execution_count": 14,
   "metadata": {},
   "outputs": [],
   "source": [
    "# Create a function to split the hh:mm:ss string and calculate seconds from it\n",
    "def to_sec(x):\n",
    "    h,m,s = map(int,x.split(':'))\n",
    "    return (h*60+m)*60+s"
   ]
  },
  {
   "cell_type": "code",
   "execution_count": 15,
   "metadata": {},
   "outputs": [],
   "source": [
    "# Separate out the days from REQTIME, put them in another column, convert to a number, fill NaN with 0, convert to seconds\n",
    "accre['REQTIME_DAY_SEC'] = accre['REQTIME'].str.extract('(\\d+)-')\n",
    "accre['REQTIME_DAY_SEC'] = pd.to_numeric(accre['REQTIME_DAY_SEC'])\n",
    "accre['REQTIME_DAY_SEC'] = accre['REQTIME_DAY_SEC'].fillna(0)\n",
    "accre['REQTIME_DAY_SEC'] = accre['REQTIME_DAY_SEC']*24*60*60\n",
    "# Extract the hh:mm:ss from REQTIME, put in a new column, and then apply the to_sec function \n",
    "accre['REQTIME_T'] = accre['REQTIME'].str.extract('(..:..:..)$')\n",
    "# REQTIME_SEC includes total seconds from REQTIME\n",
    "accre['REQTIME_SEC'] = accre['REQTIME_T'].apply(to_sec) + accre['REQTIME_DAY_SEC']\n",
    "# Do the same for USEDTIME\n",
    "accre['USEDTIME_DAY_SEC'] = accre['USEDTIME'].str.extract('(\\d+)-')\n",
    "accre['USEDTIME_DAY_SEC'] = pd.to_numeric(accre['USEDTIME_DAY_SEC'])\n",
    "accre['USEDTIME_DAY_SEC'] = accre['USEDTIME_DAY_SEC'].fillna(0)\n",
    "accre['USEDTIME_DAY_SEC'] = accre['USEDTIME_DAY_SEC']*24*60*60\n",
    "# Do the same for USEDTIME\n",
    "accre['USEDTIME_T'] = accre['USEDTIME'].str.extract('(..:..:..)$')\n",
    "# USEDTIME_SEC includes total second from USEDTIME\n",
    "accre['USEDTIME_SEC'] = accre['USEDTIME_T'].apply(to_sec) + accre['USEDTIME_DAY_SEC']\n",
    "# Check to make sure the data types look okay\n",
    "# accre.info()"
   ]
  },
  {
   "cell_type": "code",
   "execution_count": 16,
   "metadata": {},
   "outputs": [],
   "source": [
    "# Thinking about alternate approaches\n",
    "# accre['REQTIME_SEC'] = np.where(accre['REQTIME'].re.findall(r'(\\d+)-' == True, 'yes', 'no')"
   ]
  },
  {
   "cell_type": "code",
   "execution_count": 17,
   "metadata": {
    "scrolled": false
   },
   "outputs": [],
   "source": [
    "# accre.head(500)"
   ]
  },
  {
   "cell_type": "code",
   "execution_count": 18,
   "metadata": {},
   "outputs": [
    {
     "data": {
      "text/plain": [
       "Index(['JOBID', 'ACCOUNT', 'USER', 'REQMEM', 'USEDMEM', 'REQTIME', 'USEDTIME', 'NODES', 'CPUS', 'PARTITION', 'EXITCODE', 'STATE', 'NODELIST', 'REQMEM_NO', 'REQMEM_TYPE', 'REQMEM_PER_CORE', 'USEDMEM_NO', 'USEDMEM_TYPE', 'USEDMEM_PER_CORE', 'REQTIME_DAY_SEC', 'REQTIME_T', 'REQTIME_SEC', 'USEDTIME_DAY_SEC', 'USEDTIME_T', 'USEDTIME_SEC'], dtype='object')"
      ]
     },
     "execution_count": 18,
     "metadata": {},
     "output_type": "execute_result"
    }
   ],
   "source": [
    "accre.columns"
   ]
  },
  {
   "cell_type": "code",
   "execution_count": 19,
   "metadata": {},
   "outputs": [],
   "source": [
    "accre.to_csv('../data/accre_cleaned_no_nodelist.csv', columns = ['JOBID', 'ACCOUNT', 'USER', 'REQMEM', 'REQMEM_PER_CORE', 'USEDMEM', 'USEDMEM_PER_CORE', 'REQTIME', 'REQTIME_SEC', 'USEDTIME', 'USEDTIME_SEC', 'NODES', 'CPUS', 'PARTITION', 'EXITCODE', 'STATE'])"
   ]
  },
  {
   "cell_type": "code",
   "execution_count": 24,
   "metadata": {},
   "outputs": [
    {
     "ename": "TypeError",
     "evalue": "expected string or bytes-like object",
     "output_type": "error",
     "traceback": [
      "\u001b[1;31m---------------------------------------------------------------------------\u001b[0m",
      "\u001b[1;31mTypeError\u001b[0m                                 Traceback (most recent call last)",
      "\u001b[1;32m<ipython-input-24-f6b8257e1542>\u001b[0m in \u001b[0;36m<module>\u001b[1;34m\u001b[0m\n\u001b[1;32m----> 1\u001b[1;33m \u001b[0mre\u001b[0m\u001b[1;33m.\u001b[0m\u001b[0mfindall\u001b[0m\u001b[1;33m(\u001b[0m\u001b[1;34mr'dougherty'\u001b[0m\u001b[1;33m,\u001b[0m \u001b[0maccre\u001b[0m\u001b[1;33m[\u001b[0m\u001b[1;34m'NODELIST'\u001b[0m\u001b[1;33m]\u001b[0m\u001b[1;33m)\u001b[0m\u001b[1;33m\u001b[0m\u001b[1;33m\u001b[0m\u001b[0m\n\u001b[0m",
      "\u001b[1;32mC:\\ProgramData\\Anaconda3\\lib\\re.py\u001b[0m in \u001b[0;36mfindall\u001b[1;34m(pattern, string, flags)\u001b[0m\n\u001b[0;32m    239\u001b[0m \u001b[1;33m\u001b[0m\u001b[0m\n\u001b[0;32m    240\u001b[0m     Empty matches are included in the result.\"\"\"\n\u001b[1;32m--> 241\u001b[1;33m     \u001b[1;32mreturn\u001b[0m \u001b[0m_compile\u001b[0m\u001b[1;33m(\u001b[0m\u001b[0mpattern\u001b[0m\u001b[1;33m,\u001b[0m \u001b[0mflags\u001b[0m\u001b[1;33m)\u001b[0m\u001b[1;33m.\u001b[0m\u001b[0mfindall\u001b[0m\u001b[1;33m(\u001b[0m\u001b[0mstring\u001b[0m\u001b[1;33m)\u001b[0m\u001b[1;33m\u001b[0m\u001b[1;33m\u001b[0m\u001b[0m\n\u001b[0m\u001b[0;32m    242\u001b[0m \u001b[1;33m\u001b[0m\u001b[0m\n\u001b[0;32m    243\u001b[0m \u001b[1;32mdef\u001b[0m \u001b[0mfinditer\u001b[0m\u001b[1;33m(\u001b[0m\u001b[0mpattern\u001b[0m\u001b[1;33m,\u001b[0m \u001b[0mstring\u001b[0m\u001b[1;33m,\u001b[0m \u001b[0mflags\u001b[0m\u001b[1;33m=\u001b[0m\u001b[1;36m0\u001b[0m\u001b[1;33m)\u001b[0m\u001b[1;33m:\u001b[0m\u001b[1;33m\u001b[0m\u001b[1;33m\u001b[0m\u001b[0m\n",
      "\u001b[1;31mTypeError\u001b[0m: expected string or bytes-like object"
     ]
    }
   ],
   "source": [
    "nodelist = failed['NODELIST'].unique().tolist()\n",
    "nodelist_nums = [i.strip('cn').strip('[').strip(']') for i in nodelist]\n",
    "for n in nodelist_nums:\n",
    "    if ',' in n: \n",
    "        nodes = n.split(',')\n",
    "        if '-' in n:\n",
    "            nodes = n.split('-')\n",
    "            low, high = int(nodes[0]), int(nodes[1])       \n",
    "        else:\n",
    "            nodes = int(n)"
   ]
  },
  {
   "cell_type": "code",
   "execution_count": 23,
   "metadata": {},
   "outputs": [
    {
     "data": {
      "text/plain": [
       "array(['cn1531', 'cn1441', 'cn1464', ..., 'cn[1123,1128]',\n",
       "       'cn[1207,1455]', 'cn[1084,1131]'], dtype=object)"
      ]
     },
     "execution_count": 23,
     "metadata": {},
     "output_type": "execute_result"
    }
   ],
   "source": [
    "nodes"
   ]
  },
  {
   "cell_type": "code",
   "execution_count": null,
   "metadata": {},
   "outputs": [],
   "source": []
  }
 ],
 "metadata": {
  "kernelspec": {
   "display_name": "Python 3",
   "language": "python",
   "name": "python3"
  },
  "language_info": {
   "codemirror_mode": {
    "name": "ipython",
    "version": 3
   },
   "file_extension": ".py",
   "mimetype": "text/x-python",
   "name": "python",
   "nbconvert_exporter": "python",
   "pygments_lexer": "ipython3",
   "version": "3.8.3"
  }
 },
 "nbformat": 4,
 "nbformat_minor": 4
}
