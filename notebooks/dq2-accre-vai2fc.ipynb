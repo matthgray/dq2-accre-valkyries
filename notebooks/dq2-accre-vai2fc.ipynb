{
 "cells": [
  {
   "cell_type": "code",
   "execution_count": 9,
   "metadata": {},
   "outputs": [],
   "source": [
    "import pandas as pd\n",
    "import numpy as np\n",
    "from io import StringIO\n",
    "import re\n",
    "%matplotlib inline"
   ]
  },
  {
   "cell_type": "code",
   "execution_count": 15,
   "metadata": {},
   "outputs": [
    {
     "name": "stdout",
     "output_type": "stream",
     "text": [
      "         JOBID  ACCOUNT      USER    REQMEM    USEDMEM      REQTIME  \\\n",
      "0     15925210  treviso  arabella  122880Mn  65973.49M  13-18:00:00   \n",
      "1     15861126  treviso  arabella  122880Mn  67181.12M  13-18:00:00   \n",
      "2     15861125  treviso  arabella  122880Mn  69111.86M  13-18:00:00   \n",
      "3     16251645  treviso  arabella  122880Mn  65317.33M  13-18:00:00   \n",
      "4     16251646  treviso  arabella  122880Mn  65876.11M  13-18:00:00   \n",
      "...        ...      ...       ...       ...        ...          ...   \n",
      "4995  17073118   endive   bennett    8192Mn          0   5-00:00:00   \n",
      "4996  17073119   endive   bennett    8192Mn          0   5-00:00:00   \n",
      "4997  17073120   endive   bennett    8192Mn          0   5-00:00:00   \n",
      "4998  17073121   endive   bennett    8192Mn   2811.19M   5-00:00:00   \n",
      "4999  17073122   endive   bennett    8192Mn   2796.69M   5-00:00:00   \n",
      "\n",
      "         USEDTIME  NODES  CPUS   PARTITION EXITCODE      STATE NODELIST  \n",
      "0     13-18:00:28      1    24  production      0:0  COMPLETED   cn1531  \n",
      "1     12-14:50:56      1    24  production      0:0  COMPLETED   cn1441  \n",
      "2     13-18:00:20      1    24  production      0:0  COMPLETED   cn1464  \n",
      "3     12-03:50:32      1    24  production      0:0  COMPLETED   cn1473  \n",
      "4     13-18:00:03      1    24  production      0:0  COMPLETED   cn1440  \n",
      "...           ...    ...   ...         ...      ...        ...      ...  \n",
      "4995     00:00:27      1     1      turing      0:0  COMPLETED  gpu0039  \n",
      "4996     00:00:31      1     1      turing      0:0  COMPLETED  gpu0045  \n",
      "4997     00:00:23      1     1      turing      0:0  COMPLETED  gpu0039  \n",
      "4998     00:00:40      1     1      turing      0:0  COMPLETED  gpu0037  \n",
      "4999     00:00:40      1     1      turing      0:0  COMPLETED  gpu0045  \n",
      "\n",
      "[5000 rows x 13 columns]\n"
     ]
    }
   ],
   "source": [
    "for_pd = StringIO()\n",
    "with open('../data/accre-jobs-2020.csv') as accre:\n",
    "    for line in accre:\n",
    "        new_line = re.sub(r',', '|', line.rstrip(), count=12)\n",
    "        print (new_line, file=for_pd)\n",
    "\n",
    "for_pd.seek(0)\n",
    "\n",
    "accre_subset = pd.read_csv(for_pd, sep='|')[:5000]\n",
    "print (accre_subset)"
   ]
  },
  {
   "cell_type": "code",
   "execution_count": 17,
   "metadata": {
    "scrolled": true
   },
   "outputs": [
    {
     "name": "stdout",
     "output_type": "stream",
     "text": [
      "<class 'pandas.core.frame.DataFrame'>\n",
      "RangeIndex: 5000 entries, 0 to 4999\n",
      "Data columns (total 13 columns):\n",
      " #   Column     Non-Null Count  Dtype \n",
      "---  ------     --------------  ----- \n",
      " 0   JOBID      5000 non-null   object\n",
      " 1   ACCOUNT    5000 non-null   object\n",
      " 2   USER       5000 non-null   object\n",
      " 3   REQMEM     5000 non-null   object\n",
      " 4   USEDMEM    5000 non-null   object\n",
      " 5   REQTIME    5000 non-null   object\n",
      " 6   USEDTIME   5000 non-null   object\n",
      " 7   NODES      5000 non-null   int64 \n",
      " 8   CPUS       5000 non-null   int64 \n",
      " 9   PARTITION  5000 non-null   object\n",
      " 10  EXITCODE   5000 non-null   object\n",
      " 11  STATE      5000 non-null   object\n",
      " 12  NODELIST   5000 non-null   object\n",
      "dtypes: int64(2), object(11)\n",
      "memory usage: 507.9+ KB\n"
     ]
    }
   ],
   "source": [
    "accre_subset.info()"
   ]
  },
  {
   "cell_type": "code",
   "execution_count": 20,
   "metadata": {},
   "outputs": [
    {
     "data": {
      "text/plain": [
       "production        4525\n",
       "turing             337\n",
       "nogpfs             124\n",
       "pascal               6\n",
       "cgw-cqs1             2\n",
       "cgw-capra1           2\n",
       "maxwell              2\n",
       "cgw-dougherty1       1\n",
       "cgw-tbi01            1\n",
       "Name: PARTITION, dtype: int64"
      ]
     },
     "execution_count": 20,
     "metadata": {},
     "output_type": "execute_result"
    }
   ],
   "source": [
    "accre_subset.PARTITION.value_counts()"
   ]
  },
  {
   "cell_type": "code",
   "execution_count": 21,
   "metadata": {},
   "outputs": [
    {
     "data": {
      "text/plain": [
       "COMPLETED    4997\n",
       "CANCELLED       3\n",
       "Name: STATE, dtype: int64"
      ]
     },
     "execution_count": 21,
     "metadata": {},
     "output_type": "execute_result"
    }
   ],
   "source": [
    "accre_subset.STATE.value_counts()"
   ]
  },
  {
   "cell_type": "code",
   "execution_count": null,
   "metadata": {},
   "outputs": [],
   "source": []
  }
 ],
 "metadata": {
  "kernelspec": {
   "display_name": "Python 3",
   "language": "python",
   "name": "python3"
  },
  "language_info": {
   "codemirror_mode": {
    "name": "ipython",
    "version": 3
   },
   "file_extension": ".py",
   "mimetype": "text/x-python",
   "name": "python",
   "nbconvert_exporter": "python",
   "pygments_lexer": "ipython3",
   "version": "3.8.3"
  }
 },
 "nbformat": 4,
 "nbformat_minor": 4
}
