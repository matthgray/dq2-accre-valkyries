{
 "cells": [
  {
   "cell_type": "markdown",
   "metadata": {},
   "source": [
    "### Q3. What groups are best optimizing their memory usage in terms of percent of actual memory used of the memory requested for a job? What is the average percent for each group?\n",
    "* Name the dataframe ``accre_mem_use``\n",
    "* Filter out rows with ``EXITCODE`` values that are not '0:0' (success)\n",
    "* for a)\n",
    "    * Sum 6-month totals for each user group\n",
    "    * Get an average for the group by summing their total requested and total utilized memory\n",
    "    * Visualize this across the groups (which ones are doing well, which ones are not doing as well)\n",
    "\n",
    "* for b)\n",
    "    * Group the dataframe by the user groups\n",
    "    * Create a new column denoting each job's percent utilization\n",
    "    * Get a median % for the group\n",
    "    * Visualize the range and std deviation and/or IQR and median for the top and bottom performers\n"
   ]
  },
  {
   "cell_type": "code",
   "execution_count": 1,
   "metadata": {},
   "outputs": [],
   "source": [
    "import pandas as pd"
   ]
  },
  {
   "cell_type": "code",
   "execution_count": 2,
   "metadata": {},
   "outputs": [
    {
     "data": {
      "text/html": [
       "<div>\n",
       "<style scoped>\n",
       "    .dataframe tbody tr th:only-of-type {\n",
       "        vertical-align: middle;\n",
       "    }\n",
       "\n",
       "    .dataframe tbody tr th {\n",
       "        vertical-align: top;\n",
       "    }\n",
       "\n",
       "    .dataframe thead th {\n",
       "        text-align: right;\n",
       "    }\n",
       "</style>\n",
       "<table border=\"1\" class=\"dataframe\">\n",
       "  <thead>\n",
       "    <tr style=\"text-align: right;\">\n",
       "      <th></th>\n",
       "      <th>Unnamed: 0</th>\n",
       "      <th>JOBID</th>\n",
       "      <th>ACCOUNT</th>\n",
       "      <th>USER</th>\n",
       "      <th>REQMEM</th>\n",
       "      <th>REQMEM_PER_CORE</th>\n",
       "      <th>USEDMEM</th>\n",
       "      <th>USEDMEM_PER_CORE</th>\n",
       "      <th>REQTIME</th>\n",
       "      <th>REQTIME_SEC</th>\n",
       "      <th>USEDTIME</th>\n",
       "      <th>USEDTIME_SEC</th>\n",
       "      <th>NODES</th>\n",
       "      <th>CPUS</th>\n",
       "      <th>PARTITION</th>\n",
       "      <th>EXITCODE</th>\n",
       "      <th>STATE</th>\n",
       "    </tr>\n",
       "  </thead>\n",
       "  <tbody>\n",
       "    <tr>\n",
       "      <th>0</th>\n",
       "      <td>0</td>\n",
       "      <td>15925210</td>\n",
       "      <td>treviso</td>\n",
       "      <td>arabella</td>\n",
       "      <td>122880Mn</td>\n",
       "      <td>5120.0</td>\n",
       "      <td>65973.49M</td>\n",
       "      <td>2748.875000</td>\n",
       "      <td>13-18:00:00</td>\n",
       "      <td>1188000.0</td>\n",
       "      <td>13-18:00:28</td>\n",
       "      <td>1188028.0</td>\n",
       "      <td>1</td>\n",
       "      <td>24</td>\n",
       "      <td>production</td>\n",
       "      <td>0:0</td>\n",
       "      <td>COMPLETED</td>\n",
       "    </tr>\n",
       "    <tr>\n",
       "      <th>1</th>\n",
       "      <td>1</td>\n",
       "      <td>15861126</td>\n",
       "      <td>treviso</td>\n",
       "      <td>arabella</td>\n",
       "      <td>122880Mn</td>\n",
       "      <td>5120.0</td>\n",
       "      <td>67181.12M</td>\n",
       "      <td>2799.208333</td>\n",
       "      <td>13-18:00:00</td>\n",
       "      <td>1188000.0</td>\n",
       "      <td>12-14:50:56</td>\n",
       "      <td>1090256.0</td>\n",
       "      <td>1</td>\n",
       "      <td>24</td>\n",
       "      <td>production</td>\n",
       "      <td>0:0</td>\n",
       "      <td>COMPLETED</td>\n",
       "    </tr>\n",
       "    <tr>\n",
       "      <th>2</th>\n",
       "      <td>2</td>\n",
       "      <td>15861125</td>\n",
       "      <td>treviso</td>\n",
       "      <td>arabella</td>\n",
       "      <td>122880Mn</td>\n",
       "      <td>5120.0</td>\n",
       "      <td>69111.86M</td>\n",
       "      <td>2879.625000</td>\n",
       "      <td>13-18:00:00</td>\n",
       "      <td>1188000.0</td>\n",
       "      <td>13-18:00:20</td>\n",
       "      <td>1188020.0</td>\n",
       "      <td>1</td>\n",
       "      <td>24</td>\n",
       "      <td>production</td>\n",
       "      <td>0:0</td>\n",
       "      <td>COMPLETED</td>\n",
       "    </tr>\n",
       "    <tr>\n",
       "      <th>3</th>\n",
       "      <td>3</td>\n",
       "      <td>16251645</td>\n",
       "      <td>treviso</td>\n",
       "      <td>arabella</td>\n",
       "      <td>122880Mn</td>\n",
       "      <td>5120.0</td>\n",
       "      <td>65317.33M</td>\n",
       "      <td>2721.541667</td>\n",
       "      <td>13-18:00:00</td>\n",
       "      <td>1188000.0</td>\n",
       "      <td>12-03:50:32</td>\n",
       "      <td>1050632.0</td>\n",
       "      <td>1</td>\n",
       "      <td>24</td>\n",
       "      <td>production</td>\n",
       "      <td>0:0</td>\n",
       "      <td>COMPLETED</td>\n",
       "    </tr>\n",
       "    <tr>\n",
       "      <th>4</th>\n",
       "      <td>4</td>\n",
       "      <td>16251646</td>\n",
       "      <td>treviso</td>\n",
       "      <td>arabella</td>\n",
       "      <td>122880Mn</td>\n",
       "      <td>5120.0</td>\n",
       "      <td>65876.11M</td>\n",
       "      <td>2744.833333</td>\n",
       "      <td>13-18:00:00</td>\n",
       "      <td>1188000.0</td>\n",
       "      <td>13-18:00:03</td>\n",
       "      <td>1188003.0</td>\n",
       "      <td>1</td>\n",
       "      <td>24</td>\n",
       "      <td>production</td>\n",
       "      <td>0:0</td>\n",
       "      <td>COMPLETED</td>\n",
       "    </tr>\n",
       "  </tbody>\n",
       "</table>\n",
       "</div>"
      ],
      "text/plain": [
       "   Unnamed: 0     JOBID  ACCOUNT      USER    REQMEM  REQMEM_PER_CORE  \\\n",
       "0           0  15925210  treviso  arabella  122880Mn           5120.0   \n",
       "1           1  15861126  treviso  arabella  122880Mn           5120.0   \n",
       "2           2  15861125  treviso  arabella  122880Mn           5120.0   \n",
       "3           3  16251645  treviso  arabella  122880Mn           5120.0   \n",
       "4           4  16251646  treviso  arabella  122880Mn           5120.0   \n",
       "\n",
       "     USEDMEM  USEDMEM_PER_CORE      REQTIME  REQTIME_SEC     USEDTIME  \\\n",
       "0  65973.49M       2748.875000  13-18:00:00    1188000.0  13-18:00:28   \n",
       "1  67181.12M       2799.208333  13-18:00:00    1188000.0  12-14:50:56   \n",
       "2  69111.86M       2879.625000  13-18:00:00    1188000.0  13-18:00:20   \n",
       "3  65317.33M       2721.541667  13-18:00:00    1188000.0  12-03:50:32   \n",
       "4  65876.11M       2744.833333  13-18:00:00    1188000.0  13-18:00:03   \n",
       "\n",
       "   USEDTIME_SEC  NODES  CPUS   PARTITION EXITCODE      STATE  \n",
       "0     1188028.0      1    24  production      0:0  COMPLETED  \n",
       "1     1090256.0      1    24  production      0:0  COMPLETED  \n",
       "2     1188020.0      1    24  production      0:0  COMPLETED  \n",
       "3     1050632.0      1    24  production      0:0  COMPLETED  \n",
       "4     1188003.0      1    24  production      0:0  COMPLETED  "
      ]
     },
     "execution_count": 2,
     "metadata": {},
     "output_type": "execute_result"
    }
   ],
   "source": [
    "accre_mem_use = pd.read_csv('../data/accre_cleaned_no_nodelist.csv')\n",
    "accre_mem_use.head()"
   ]
  },
  {
   "cell_type": "code",
   "execution_count": 3,
   "metadata": {
    "scrolled": false
   },
   "outputs": [
    {
     "name": "stdout",
     "output_type": "stream",
     "text": [
      "<class 'pandas.core.frame.DataFrame'>\n",
      "RangeIndex: 3816290 entries, 0 to 3816289\n",
      "Data columns (total 17 columns):\n",
      " #   Column            Dtype  \n",
      "---  ------            -----  \n",
      " 0   Unnamed: 0        int64  \n",
      " 1   JOBID             object \n",
      " 2   ACCOUNT           object \n",
      " 3   USER              object \n",
      " 4   REQMEM            object \n",
      " 5   REQMEM_PER_CORE   float64\n",
      " 6   USEDMEM           object \n",
      " 7   USEDMEM_PER_CORE  float64\n",
      " 8   REQTIME           object \n",
      " 9   REQTIME_SEC       float64\n",
      " 10  USEDTIME          object \n",
      " 11  USEDTIME_SEC      float64\n",
      " 12  NODES             int64  \n",
      " 13  CPUS              int64  \n",
      " 14  PARTITION         object \n",
      " 15  EXITCODE          object \n",
      " 16  STATE             object \n",
      "dtypes: float64(4), int64(3), object(10)\n",
      "memory usage: 495.0+ MB\n"
     ]
    }
   ],
   "source": [
    "accre_mem_use.info()"
   ]
  },
  {
   "cell_type": "code",
   "execution_count": 4,
   "metadata": {},
   "outputs": [
    {
     "data": {
      "text/plain": [
       "0:0      3813403\n",
       "1:0         1155\n",
       "0:9          838\n",
       "0:15         354\n",
       "127:0        143\n",
       "2:0          135\n",
       "0:125         95\n",
       "7:0           48\n",
       "0:7           15\n",
       "6:0           15\n",
       "126:0         11\n",
       "0:11          11\n",
       "13:0          11\n",
       "38:0           9\n",
       "24:0           7\n",
       "11:0           6\n",
       "0:39           5\n",
       "0:6            4\n",
       "59:0           4\n",
       "116:0          4\n",
       "0:12           3\n",
       "99:0           2\n",
       "64:0           2\n",
       "0:105          2\n",
       "0:2            2\n",
       "8:0            2\n",
       "16:0           1\n",
       "0:4            1\n",
       "101:0          1\n",
       "0:36           1\n",
       "Name: EXITCODE, dtype: int64"
      ]
     },
     "execution_count": 4,
     "metadata": {},
     "output_type": "execute_result"
    }
   ],
   "source": [
    "accre_mem_use['EXITCODE'].value_counts()"
   ]
  },
  {
   "cell_type": "code",
   "execution_count": 5,
   "metadata": {},
   "outputs": [
    {
     "data": {
      "text/plain": [
       "<pandas.core.groupby.generic.DataFrameGroupBy object at 0x000001E6D6CBDC10>"
      ]
     },
     "execution_count": 5,
     "metadata": {},
     "output_type": "execute_result"
    }
   ],
   "source": [
    "accre_mem_use.groupby(['ACCOUNT', 'USER'])"
   ]
  },
  {
   "cell_type": "code",
   "execution_count": null,
   "metadata": {},
   "outputs": [],
   "source": []
  }
 ],
 "metadata": {
  "kernelspec": {
   "display_name": "Python 3",
   "language": "python",
   "name": "python3"
  },
  "language_info": {
   "codemirror_mode": {
    "name": "ipython",
    "version": 3
   },
   "file_extension": ".py",
   "mimetype": "text/x-python",
   "name": "python",
   "nbconvert_exporter": "python",
   "pygments_lexer": "ipython3",
   "version": "3.8.3"
  }
 },
 "nbformat": 4,
 "nbformat_minor": 4
}
